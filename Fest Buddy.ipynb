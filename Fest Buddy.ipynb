{
 "cells": [
  {
   "cell_type": "markdown",
   "metadata": {},
   "source": [
    "# `Fest Buddy / Şenlik Buddy`\n",
    "---\n",
    "Fest Buddy is designed for Middle East Technical University students who follows @odtudeepdarkhub instagram page. \n",
    "\n",
    "This program finds `the one` who you would like to go to Spring Fest. \n",
    "\n",
    "This is part of my dream project. Questions are important. This is first version of this project.\n",
    "\n",
    "Data is collected by google forms. \n",
    "\n",
    "If there is a match, you are going to get a mail by your METU Mail address. \n",
    "\n",
    "may the horses be with you\n",
    "the admin\n",
    "Orcun Sami Tandogan\n",
    "\n",
    "All rights are reserverd.  "
   ]
  },
  {
   "cell_type": "code",
   "execution_count": 45,
   "metadata": {},
   "outputs": [
    {
     "data": {
      "text/plain": [
       "int"
      ]
     },
     "execution_count": 45,
     "metadata": {},
     "output_type": "execute_result"
    }
   ],
   "source": [
    "\n",
    "def my_add(a: int, b: int) -> int:\n",
    "    return a + b\n",
    "\n",
    "type(my_add(2,3)  ) "
   ]
  },
  {
   "cell_type": "markdown",
   "metadata": {},
   "source": [
    "---\n",
    "---\n",
    "---\n",
    "# Setup"
   ]
  },
  {
   "cell_type": "markdown",
   "metadata": {},
   "source": [
    "## Module"
   ]
  },
  {
   "cell_type": "code",
   "execution_count": null,
   "metadata": {},
   "outputs": [],
   "source": [
    "import pandas as pd \n",
    "import numpy as np "
   ]
  },
  {
   "cell_type": "markdown",
   "metadata": {},
   "source": [
    "### Point Annotation"
   ]
  },
  {
   "cell_type": "code",
   "execution_count": null,
   "metadata": {},
   "outputs": [],
   "source": [
    "def puan(ind, point=5):\n",
    "    global temp_total\n",
    "    try:\n",
    "        if temp_e[ind] == temp_k[ind]:\n",
    "            temp_total += point\n",
    "        else:\n",
    "            temp_total += 0  \n",
    "    except:\n",
    "        temp_total += 0  \n",
    " \n",
    " \n",
    "def puan_mh(ind1,ind2, point=5):\n",
    "    global temp_total\n",
    "    try: \n",
    "        for kk in temp_e[ind1]:\n",
    "            if kk in temp_k[ind2]:\n",
    "                temp_total += point \n",
    "            else:\n",
    "                temp_total += 0  \n",
    "    except:\n",
    "        temp_total += 0          "
   ]
  },
  {
   "cell_type": "markdown",
   "metadata": {},
   "source": [
    "## Data Reading"
   ]
  },
  {
   "cell_type": "code",
   "execution_count": null,
   "metadata": {},
   "outputs": [],
   "source": [
    "data = pd.read_csv(r'C:\\Users\\Asus\\Desktop\\Ubuntu_Storage\\senlik.csv') \n",
    "data = data.iloc[:,1:] \n",
    "# Mails \n",
    "mails = data.iloc[:,-9] \n",
    "# Subsetting data except the mails \n",
    "data = pd.concat((data.iloc[:,0:-9],data.iloc[:,-8:]), axis= 1) \n",
    "# Deleting BDSM \n",
    "data = pd.concat((data.iloc[:,0:2],data.iloc[:,3:]), axis= 1)     \n",
    "# Deleting KVKK & Aydinlatma Metni\n",
    "data = data.iloc[:,:-2]      \n",
    "# Yasaklilar listesi\n",
    "ex = data.iloc[:,-1] \n",
    "# Instagram adresleri\n",
    "insta_labels = data.iloc[:,-1]\n",
    "# Deleting Instagram adresleri\n",
    "data = data.iloc[:,:-1]               \n",
    "# Saving Yasaklilar \n",
    "exes = data.iloc[:,-1]               \n",
    "# Deleting Yasaklilar\n",
    "data = data.iloc[:,:-1]  \n",
    "# sex and genders \n",
    "sex_genders = data.iloc[:,-2:]        \n",
    "# Changing columns\n",
    "data = data.iloc[:,:-2]             \n",
    "# Recombining for sex and genders \n",
    "data = pd.concat((sex_genders,data), axis= 1)     \n",
    "\n",
    "data.head()   "
   ]
  },
  {
   "cell_type": "markdown",
   "metadata": {},
   "source": [
    "### Reordering data"
   ]
  },
  {
   "cell_type": "code",
   "execution_count": null,
   "metadata": {},
   "outputs": [],
   "source": [
    "for i,j in zip(range(len(data.columns)),data.columns):\n",
    "    print(i,j)  "
   ]
  },
  {
   "cell_type": "code",
   "execution_count": null,
   "metadata": {},
   "outputs": [],
   "source": [
    "temp = data \n",
    "def reorder(x,a,b):\n",
    "    global temp \n",
    "    # It puts a to b\n",
    "    temp = x \n",
    "    cols = list(temp.columns) \n",
    "    A = cols.pop(a)  \n",
    "    cols.insert(b,A) \n",
    "    temp= temp[cols] \n",
    "    return(cols) \n",
    "\n",
    "ll = [21,15,36,41,42]\n",
    "for i in ll:\n",
    "    new_col = reorder(temp,i,6) \n",
    "ll = [45,46]\n",
    "for i in ll:\n",
    "    new_col = reorder(temp,i,11) \n",
    "new_col[11],new_col[12] = new_col[12],new_col[11]  \n",
    "data = data[new_col] \n",
    "new_col "
   ]
  },
  {
   "cell_type": "markdown",
   "metadata": {},
   "source": [
    "---\n",
    "--- \n",
    "# `Algorithm / Algoritma`\n",
    "### Find people who have most common attribitues / Bir birine en yakin ozellige sahip insanlari bul. \n",
    "### Create point table for each / Her birisi için puanlama tablosuu yap\n",
    "Get common points for each person, with others and create data frame / \n",
    "Her bir insan icin diger kisiyi puanla ve ayri bir data frame olustur.\n",
    "\n",
    "Find average points for all of them and compare within it`s matches / \n",
    "Her bir insanin, ortalama ve diger insanlara gore sonuclarini cikart. \n",
    "\n",
    "Find matches with highest points / \n",
    "Her kullanicinin en yuksek eslesme puanlarina sahip insanlari belirle"
   ]
  },
  {
   "cell_type": "markdown",
   "metadata": {},
   "source": [
    "For sake of this event, as more than a half of the people are woman, woman got prioity for matching. For example, when the dataframes are created, Senlik Buddy program does not provide best woman for man, but creates a dataframe best man for woman. "
   ]
  },
  {
   "cell_type": "markdown",
   "metadata": {},
   "source": [
    "### Data Ordering"
   ]
  },
  {
   "cell_type": "code",
   "execution_count": null,
   "metadata": {},
   "outputs": [],
   "source": [
    "People = dict() \n",
    "print(len(data))\n",
    "for k in range(len(insta_labels)):\n",
    "    subject = data.iloc[k,:] \n",
    "    temp_data = data.drop(labels=[k])  \n",
    "    print(k,insta_labels[k], len(temp_data))\n",
    "    print(subject[1] )\n",
    "    break "
   ]
  },
  {
   "cell_type": "markdown",
   "metadata": {},
   "source": [
    "Woman / Kadinlar"
   ]
  },
  {
   "cell_type": "markdown",
   "metadata": {},
   "source": [
    "! TO DO Biseksuel kadinlar gidik burada"
   ]
  },
  {
   "cell_type": "code",
   "execution_count": null,
   "metadata": {},
   "outputs": [],
   "source": [
    "have = ['Kadın'] \n",
    "wanted = ['Erkek'] \n",
    "# selecting rows based on condition\n",
    "K = data[data[new_col[0]].isin(have)]\n",
    "\n",
    "K = K[K[new_col[1]].isin(wanted)]  \n",
    "KK = [69,155,157]\n",
    "KK = data.iloc[KK,:]  \n",
    "K = pd.concat([K,KK],axis=0)\n",
    "# K "
   ]
  },
  {
   "cell_type": "markdown",
   "metadata": {},
   "source": [
    "Man / Erkekler"
   ]
  },
  {
   "cell_type": "code",
   "execution_count": null,
   "metadata": {},
   "outputs": [],
   "source": [
    "wanted = ['Kadın'] \n",
    "have = ['Erkek'] \n",
    "# selecting rows based on condition\n",
    "E = data[data[new_col[0]].isin(have)]\n",
    "E = E[E[new_col[1]].isin(wanted)]  \n",
    "# E "
   ]
  },
  {
   "cell_type": "markdown",
   "metadata": {},
   "source": [
    "## Preprocessing For Data"
   ]
  },
  {
   "cell_type": "markdown",
   "metadata": {},
   "source": [
    "### Height / Boy "
   ]
  },
  {
   "cell_type": "code",
   "execution_count": null,
   "metadata": {},
   "outputs": [],
   "source": [
    "boy = np.array(E.iloc[:,11]) \n",
    "for i in range(len(boy)):\n",
    "    if '.' in boy[i]:\n",
    "        boy[i] = boy[i].replace('.','') \n",
    "    elif '-' in boy[i]:\n",
    "        boy[i] = boy[i].replace('-','')  \n",
    "boy[15] = 173 \n",
    "boy[20] = 177 \n",
    "boy[40] = 179 \n",
    "boy[107] = 201\n",
    "boy[210] = 180 \n",
    "#for i in range(len(boy)):\n",
    "#    print(i,boy[i] )  \n",
    "#print(boy)\n",
    "\n",
    "E.iloc[:,11] = boy "
   ]
  },
  {
   "cell_type": "code",
   "execution_count": null,
   "metadata": {},
   "outputs": [],
   "source": [
    "boy = np.array(K.iloc[:,12]) \n",
    "for i in range(len(boy)):\n",
    "    if type(boy[i]) != float and '.' in boy[i]:\n",
    "        boy[i] = boy[i].replace('.','')    \n",
    "    elif type(boy[i]) != float and ',' in boy[i]:\n",
    "        boy[i] = boy[i].replace(',','')  \n",
    "    elif type(boy[i]) != float and '<' in boy[i]:\n",
    "        boy[i] = boy[i].replace('<','')  \n",
    "    elif type(boy[i]) != float and '>' in boy[i]:\n",
    "            boy[i] = boy[i].replace('>','')  \n",
    "    elif type(boy[i]) != float and '+' in boy[i]:\n",
    "        boy[i] = boy[i].replace('+','')  \n",
    "    elif len(str(boy[i]))> 4:\n",
    "        boy[i] = '170'\n",
    "\n",
    "boy[46] = '170'  \n",
    "for i in range(len(boy)):\n",
    "    if type(boy[i]) != float:\n",
    "        boy[i] = boy[i][:3]\n",
    "    else:\n",
    "        boy[i] = 170 \n",
    "\n",
    "#for i in range(len(boy)):\n",
    "#    print(i,boy[i] )      \n",
    "\n",
    "K.iloc[:,12] = boy "
   ]
  },
  {
   "cell_type": "code",
   "execution_count": null,
   "metadata": {},
   "outputs": [],
   "source": [
    "boy = np.array(K.iloc[:,11]) \n",
    "for i in range(len(boy)):\n",
    "    if '.' in boy[i]:\n",
    "        boy[i] = boy[i].replace('.','') \n",
    "    elif ',' in boy[i]:\n",
    "        boy[i] = boy[i].replace(',','')         \n",
    "boy[13] = boy[13][:-2] \n",
    "#for i in range(len(boy)):\n",
    "    #print(i,boy[i] )      \n",
    "\n",
    "K.iloc[:,11] = boy "
   ]
  },
  {
   "cell_type": "code",
   "execution_count": null,
   "metadata": {},
   "outputs": [],
   "source": [
    "np.array(E.iloc[:,12]) "
   ]
  },
  {
   "cell_type": "markdown",
   "metadata": {},
   "source": [
    "### Introvert & Extrovert"
   ]
  },
  {
   "cell_type": "code",
   "execution_count": null,
   "metadata": {},
   "outputs": [],
   "source": [
    "intro = np.array(K.iloc[:,13]) \n",
    "for i in range(len(intro)):\n",
    "    try:\n",
    "        if intro[i][0] =='5':\n",
    "            intro[i] = 5 \n",
    "        elif intro[i][0] =='1':\n",
    "            intro[i] = 1 \n",
    "    except: \n",
    "        intro[i] = 3\n",
    "        \n",
    "K.iloc[:,13] = intro    \n",
    "\n",
    "intro = np.array(K.iloc[:,14]) \n",
    "for i in range(len(intro)):\n",
    "    try:\n",
    "        if intro[i][0] =='5':\n",
    "            intro[i] = 5 \n",
    "        elif intro[i][0] =='1':\n",
    "            intro[i] = 1 \n",
    "    except: \n",
    "        intro[i] = 3\n",
    "K.iloc[:,14] = intro     \n",
    "\n",
    "intro = np.array(E.iloc[:,13]) \n",
    "for i in range(len(intro)):\n",
    "    try:\n",
    "        if intro[i][0] =='5':\n",
    "            intro[i] = '5' \n",
    "        elif intro[i][0] =='1':\n",
    "            intro[i] = '1' \n",
    "    except: \n",
    "        intro[i] = 3 \n",
    "E.iloc[:,13] = intro \n",
    "\n",
    "\n",
    "intro = np.array(E.iloc[:,14]) \n",
    "for i in range(len(intro)):\n",
    "    try:\n",
    "        if intro[i][0] =='5':\n",
    "            intro[i] = '5' \n",
    "        elif intro[i][0] =='1':\n",
    "            intro[i] = '1' \n",
    "    except: \n",
    "        intro[i] = 3 \n",
    "E.iloc[:,14] = intro \n",
    "E.iloc[:,14] = np.array((E.iloc[:,14]).replace('5 Extrovert','5') )  "
   ]
  },
  {
   "cell_type": "markdown",
   "metadata": {},
   "source": [
    "---\n",
    "---\n",
    "# `Match Points / Eslesme Puanlaması`\n",
    "Note: Every question has no same points. There are real and motivating questions. \n",
    "\n",
    "* For example, Hogwarts School question can give only 5 points, but question like `Can you live a person who you know for couple of months?` has 100 points. \n",
    "\n",
    "So, each men and women carry own points. \n"
   ]
  },
  {
   "cell_type": "markdown",
   "metadata": {},
   "source": [
    "### Module"
   ]
  },
  {
   "cell_type": "code",
   "execution_count": null,
   "metadata": {},
   "outputs": [],
   "source": [
    "from collections import defaultdict"
   ]
  },
  {
   "cell_type": "markdown",
   "metadata": {},
   "source": [
    "### Creating The Dataframe For Woman"
   ]
  },
  {
   "cell_type": "code",
   "execution_count": null,
   "metadata": {},
   "outputs": [],
   "source": [
    "People = dict() \n",
    "Pl = [] \n",
    "count = 0\n",
    "K_dict = dict()  # for each woman it contains dictionary\n",
    "# temp_total are built in respect to woman \n",
    "\n",
    "for k in range(len(K)):\n",
    "    temp_k = K.iloc[k,:] \n",
    "    temp_k = np.array(temp_k) \n",
    "    #print('k',k,K.iloc[k,:])  \n",
    "    #print(temp_k) \n",
    "    TT_total = []\n",
    "    E_index = []  \n",
    "    for i in range(len(E)):\n",
    "        temp_total = 0 \n",
    "        temp_e = E.iloc[i,:] \n",
    "        temp_e = np.array(temp_e) \n",
    "        \n",
    "        # Hogwarts \n",
    "        puan_mh(ind1 = 2, ind2 = 3, point=10) \n",
    "        \n",
    "        # Senlik Gunleri \n",
    "        sg = ['5','6','7','8']\n",
    "        temp_sg = 0 \n",
    "        for g in sg:            \n",
    "            if g in temp_e[4] and g in temp_k[4]: \n",
    "                temp_sg += 1000\n",
    "        temp_total += temp_sg      \n",
    "        #break     \n",
    "\n",
    "        # Icki turu\n",
    "        puan(ind=5 , point=20) \n",
    "\n",
    "        # Simit mi Gevrek Mi \n",
    "        puan(ind=6 , point=5) \n",
    "\n",
    "        # Belgesel 7\n",
    "        puan(ind=7 , point=5) \n",
    "        #print(temp_total)\n",
    "        \n",
    "        # Kampuste en iyi  \n",
    "        # !\n",
    "        puan(ind=8,point = 5 )  \n",
    "\n",
    "        # Ilk konusma konusu\n",
    "        # ! \n",
    "        puan( ind=9, point= 5 ) \n",
    "\n",
    "        # Cis Het\n",
    "        puan(ind=10, point = 30 )  \n",
    "\n",
    "        # Boy \n",
    "        # !! \n",
    "        #print(int(temp_e[11]),  int(temp_k[11]))\n",
    "        if int(temp_e[11]) >= int(temp_k[11]):\n",
    "            temp_total += 50 \n",
    "            if int(temp_e[11]) >= int(temp_k[12]):\n",
    "                temp_total += 100 \n",
    "        else:\n",
    "            temp_total = temp_total\n",
    "\n",
    "        # Introvert Extrovert     \n",
    "        ie = abs( int(temp_e[13]) - int(temp_k[14]) )\n",
    "        temp_total += (5-ie) * 30  \n",
    "\n",
    "        # Hayatinda ne istedigini \n",
    "        puan_mh(ind1= 15, ind2= 16, point=25 ) \n",
    "\n",
    "        # Sabah Gece \n",
    "        puan_mh(ind1= 17, ind2= 18, point = 50 )  \n",
    "\n",
    "        # tolstoy\n",
    "        puan_mh(ind1= 19, ind2= 21, point= 20 )  \n",
    "\n",
    "        # Market \n",
    "        puan_mh(ind1= 21, ind2= 22, point=15 )  \n",
    "\n",
    "        # Burclar \n",
    "        if '2- Hayır' in temp_e[23] and '2- Hayır' in temp_k[24]:      \n",
    "            puan_mh(ind1= 23, ind2= 24, point = 70 )      \n",
    "        else:\n",
    "            puan_mh(ind1= 23, ind2= 24, point = 30 )      \n",
    "\n",
    "        # Iliski\n",
    "        puan_mh(ind1= 25, ind2= 26, point=40 )          \n",
    "\n",
    "        # Kelime Ciddi Rahat \n",
    "        puan_mh(ind1= 27, ind2= 28, point=80 )      \n",
    "\n",
    "        # Fiziksel \n",
    "        puan_mh(ind1= 29, ind2= 30, point=70 )      \n",
    "\n",
    "        # Menemen \n",
    "        puan_mh(ind1= 31, ind2= 32, point=10 )      \n",
    "\n",
    "        # Muhendisler \n",
    "        puan_mh(ind1= 33, ind2= 34, point=15 )      \n",
    "        \n",
    "        # Biten iliski sonrasi \n",
    "        puan_mh(ind1= 35, ind2= 36, point=50 )      \n",
    "\n",
    "        # Hic arkadas\n",
    "        puan_mh(ind1= 37, ind2= 38, point=100 )      \n",
    "        \n",
    "        # Yakin \n",
    "        puan_mh(ind1= 39, ind2= 40, point=100 )      \n",
    "\n",
    "        # 3 Aylik \n",
    "        puan_mh(ind1= 41, ind2= 42, point=100 )       \n",
    "\n",
    "        # Duygu \n",
    "        puan_mh(ind1= 43, ind2= 44, point=50 )       \n",
    "\n",
    "        # Onceki Iliskilerden bahsetme \n",
    "        puan_mh(ind1= 45, ind2= 46, point=100 )       \n",
    "        \n",
    "                 \n",
    "        # Summing all points \n",
    "        TT_total.append( temp_total ) \n",
    "        E_index.append(i)\n",
    "\n",
    "        #break \n",
    "    K_dict[k] = TT_total \n",
    "    K_index = E_index "
   ]
  },
  {
   "cell_type": "code",
   "execution_count": null,
   "metadata": {},
   "outputs": [],
   "source": [
    "K_pd = pd.DataFrame.from_dict(K_dict, orient='columns' ).T \n",
    "K_pd.columns = E.index\n",
    "K_pd "
   ]
  },
  {
   "cell_type": "code",
   "execution_count": null,
   "metadata": {},
   "outputs": [],
   "source": [
    "M = [] \n",
    "for i in range(len(K_pd)):\n",
    "    temp = K_pd.loc[i].sort_values()[-4:]\n",
    "    mean = np.mean(K_pd.loc[i] ) \n",
    "    rate = (temp * 100) / mean \n",
    "    M.append([np.mean(list(rate)) ] ) "
   ]
  },
  {
   "cell_type": "code",
   "execution_count": null,
   "metadata": {},
   "outputs": [],
   "source": [
    "# Control\n",
    "K_dict.keys()"
   ]
  },
  {
   "cell_type": "markdown",
   "metadata": {},
   "source": [
    "---\n",
    "# Man lists for Woman\n",
    "In here, there 8 man for each woman in respect to points they got. "
   ]
  },
  {
   "cell_type": "code",
   "execution_count": null,
   "metadata": {},
   "outputs": [],
   "source": [
    "# Combinations \n",
    "comb = dict() \n",
    "old = [] \n",
    "for a,b in zip(K_dict.keys(), range(len(K_pd))) :\n",
    "    temp = K_pd.loc[b].sort_values()[:]  \n",
    "    temp = list(temp.index)[::-1] \n",
    "\n",
    "    ct = [] \n",
    "    while len(ct) < 8:\n",
    "        \n",
    "        if temp[0] in old:\n",
    "            temp = temp[1:] \n",
    "        else:\n",
    "            ct.append(temp[0])\n",
    "            temp = temp[1:] \n",
    "    #for i in ct:\n",
    "    #    old.append(i) \n",
    "    \n",
    "    comb[a] = ct "
   ]
  },
  {
   "cell_type": "code",
   "execution_count": null,
   "metadata": {},
   "outputs": [],
   "source": [
    "pdc = pd.DataFrame(comb)  \n",
    "#pdc.columns = K.index \n",
    "pdc = pdc.T \n",
    "#pdc.index = K.index \n",
    "#pdc.head() \n",
    "pdk = pd.DataFrame(K.index) \n",
    "pdk.columns = ['Kadin'] \n",
    "pdT = pd.concat( [pdk,pdc ],axis=1)   \n",
    "pdT#.head() "
   ]
  },
  {
   "cell_type": "code",
   "execution_count": null,
   "metadata": {},
   "outputs": [],
   "source": [
    "def drs(x=insta_labels,y=K.index): \n",
    "    pd1 = x[y]\n",
    "    pd1 = pd.DataFrame(pd1) \n",
    "    pd1.reset_index(inplace=True) \n",
    "    return pd1 \n",
    "#drs()\n",
    "\n",
    "pd0 = pd.DataFrame(M  ) \n",
    "pd0.reset_index(inplace=True) "
   ]
  },
  {
   "cell_type": "code",
   "execution_count": 38,
   "metadata": {},
   "outputs": [],
   "source": [
    "pd0 = pd.DataFrame(M  ) \n",
    "pd0.reset_index(inplace=True) \n",
    "\n",
    "pd1 = drs( x = insta_labels, y = K.index) \n",
    "pd2 = drs( x = mails, y = K.index ).iloc[:,1]   \n",
    "\n",
    "pd3 = drs( x = insta_labels, y = pdT.iloc[:,1] )  \n",
    "pd4 = drs( x = mails, y = pdT.iloc[:,1] ).iloc[:,1] \n",
    "\n",
    "\n",
    "pd5 = drs( x = insta_labels, y = pdT.iloc[:,2] )  \n",
    "pd6 = drs( x = mails, y = pdT.iloc[:,2] ).iloc[:,1] \n",
    "\n",
    "pd7 = drs( x = insta_labels, y = pdT.iloc[:,2] )  \n",
    "pd8 = drs( x = mails, y = pdT.iloc[:,2] ).iloc[:,1] \n",
    "\n",
    "pd9 = drs( x = exes, y = K.index ).iloc[:,1]   \n",
    "pd10 = drs( x = exes, y = pdT.iloc[:,1] ).iloc[:,1] \n",
    "pd11 = drs( x = exes, y = pdT.iloc[:,2] ).iloc[:,1] \n",
    "\n",
    "pdS = pd.concat([pd0, pd1, pd2, pd3, pd4,pd5,pd6,pd7,pd8,pd9,pd10,pd11 ] , axis=1, ignore_index=True) \n"
   ]
  },
  {
   "cell_type": "markdown",
   "metadata": {},
   "source": [
    "# `Final Matches `\n",
    "---"
   ]
  },
  {
   "cell_type": "code",
   "execution_count": null,
   "metadata": {},
   "outputs": [],
   "source": [
    "pdS.head() "
   ]
  },
  {
   "cell_type": "code",
   "execution_count": null,
   "metadata": {},
   "outputs": [],
   "source": [
    "pdS.to_excel('Final.xlsx', engine='xlsxwriter')  "
   ]
  }
 ],
 "metadata": {
  "interpreter": {
   "hash": "107d7b120a5b68773a87d4067e673630b35702e55ebab3138143d08b1c4d7cbc"
  },
  "kernelspec": {
   "display_name": "Python 3.10.2 64-bit",
   "language": "python",
   "name": "python3"
  },
  "language_info": {
   "codemirror_mode": {
    "name": "ipython",
    "version": 3
   },
   "file_extension": ".py",
   "mimetype": "text/x-python",
   "name": "python",
   "nbconvert_exporter": "python",
   "pygments_lexer": "ipython3",
   "version": "3.10.2"
  },
  "orig_nbformat": 4
 },
 "nbformat": 4,
 "nbformat_minor": 2
}
